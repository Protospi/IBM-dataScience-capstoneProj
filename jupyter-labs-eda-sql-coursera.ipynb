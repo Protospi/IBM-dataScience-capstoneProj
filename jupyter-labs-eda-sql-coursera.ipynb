{
    "cells": [
        {
            "metadata": {},
            "cell_type": "markdown",
            "source": "<center>\n    <img src=\"https://gitlab.com/ibm/skills-network/courses/placeholder101/-/raw/master/labs/module%201/images/IDSNlogo.png\"  width=\"300\" alt=\"cognitiveclass.ai logo\"  />\n</center>\n\n<h1 align=center><font size = 5>Assignment: SQL Notebook for Peer Assignment</font></h1>\n\nEstimated time needed: **60** minutes.\n\n## Introduction\n\nUsing this Python notebook you will:\n\n1.  Understand the Spacex DataSet\n2.  Load the dataset  into the corresponding table in a Db2 database\n3.  Execute SQL queries to answer assignment questions\n"
        },
        {
            "metadata": {},
            "cell_type": "markdown",
            "source": "## Overview of the DataSet\n\nSpaceX has gained worldwide attention for a series of historic milestones.\n\nIt is the only private company ever to return a spacecraft from low-earth orbit, which it first accomplished in December 2010.\nSpaceX advertises Falcon 9 rocket launches on its website with a cost of 62 million dollars wheras other providers cost upward of 165 million dollars each, much of the savings is because Space X can reuse the first stage.\n\nTherefore if we can determine if the first stage will land, we can determine the cost of a launch.\n\nThis information can be used if an alternate company wants to bid against SpaceX for a rocket launch.\n\nThis dataset includes a record for each payload carried during a SpaceX mission into outer space.\n"
        },
        {
            "metadata": {},
            "cell_type": "markdown",
            "source": "### Download the datasets\n\nThis assignment requires you to load the spacex dataset.\n\nIn many cases the dataset to be analyzed is available as a .CSV (comma separated values) file, perhaps on the internet. Click on the link below to download and save the dataset (.CSV file):\n\n<a href=\"https://cf-courses-data.s3.us.cloud-object-storage.appdomain.cloud/IBM-DS0321EN-SkillsNetwork/labs/module_2/data/Spacex.csv?utm_medium=Exinfluencer&utm_source=Exinfluencer&utm_content=000026UJ&utm_term=10006555&utm_id=NA-SkillsNetwork-Channel-SkillsNetworkCoursesIBMDS0321ENSkillsNetwork26802033-2021-01-01\" target=\"_blank\">Spacex DataSet</a>\n"
        },
        {
            "metadata": {},
            "cell_type": "markdown",
            "source": "### Store the dataset in database table\n\n**it is highly recommended to manually load the table using the database console LOAD tool in DB2**.\n\n<img src = \"https://cf-courses-data.s3.us.cloud-object-storage.appdomain.cloud/IBM-DS0321EN-SkillsNetwork/labs/module_2/images/spacexload.png\">\n\nNow open the Db2 console, open the LOAD tool, Select / Drag the .CSV file for the  dataset, Next create a New Table, and then follow the steps on-screen instructions to load the data. Name the new table as follows:\n\n**SPACEXDATASET**\n\n**Follow these steps while using old DB2 UI which is having Open Console Screen**\n\n**Note:While loading Spacex dataset, ensure that detect datatypes is disabled. Later click on the pencil icon(edit option).**\n\n1.  Change the Date Format by manually typing DD-MM-YYYY and timestamp format as DD-MM-YYYY HH\\:MM:SS\n\n2.  Change the PAYLOAD_MASS\\_\\_KG\\_  datatype  to INTEGER.\n\n<img src = \"https://cf-courses-data.s3.us.cloud-object-storage.appdomain.cloud/IBM-DS0321EN-SkillsNetwork/labs/module_2/images/spacexload2.png\">\n"
        },
        {
            "metadata": {},
            "cell_type": "markdown",
            "source": "**Changes to be considered when having DB2 instance with the new UI having Go to UI screen**\n\n*   Refer to this insruction in this <a href=\"https://cf-courses-data.s3.us.cloud-object-storage.appdomain.cloud/IBMDeveloperSkillsNetwork-DB0201EN-SkillsNetwork/labs/Labs_Coursera_V5/labs/Lab%20-%20Sign%20up%20for%20IBM%20Cloud%20-%20Create%20Db2%20service%20instance%20-%20Get%20started%20with%20the%20Db2%20console/instructional-labs.md.html?utm_medium=Exinfluencer&utm_source=Exinfluencer&utm_content=000026UJ&utm_term=10006555&utm_id=NA-SkillsNetwork-Channel-SkillsNetworkCoursesIBMDS0321ENSkillsNetwork26802033-2021-01-01\">link</a> for viewing  the new  Go to UI screen.\n\n*   Later click on **Data link(below SQL)**  in the Go to UI screen  and click on **Load Data** tab.\n\n*   Later browse for the downloaded spacex file.\n\n<img src=\"https://cf-courses-data.s3.us.cloud-object-storage.appdomain.cloud/IBM-DS0321EN-SkillsNetwork/labs/module_2/images/browsefile.png\" width=\"800\"/>\n\n*   Once done select the schema andload the file.\n\n <img src=\"https://cf-courses-data.s3.us.cloud-object-storage.appdomain.cloud/IBM-DS0321EN-SkillsNetwork/labs/module_2/images/spacexload3.png\" width=\"800\"/>\n"
        },
        {
            "metadata": {},
            "cell_type": "code",
            "source": "!pip install sqlalchemy\n!pip install ibm_db_sa\n!pip install ipython-sql\n!pip install ibm_db \n!pip install ibm_db_sa",
            "execution_count": 4,
            "outputs": [
                {
                    "output_type": "stream",
                    "text": "Requirement already satisfied: sqlalchemy in /opt/conda/envs/Python-3.8-main/lib/python3.8/site-packages (1.3.9)\nRequirement already satisfied: ibm_db_sa in /opt/conda/envs/Python-3.8-main/lib/python3.8/site-packages (0.3.7)\nRequirement already satisfied: sqlalchemy>=0.7.3 in /opt/conda/envs/Python-3.8-main/lib/python3.8/site-packages (from ibm_db_sa) (1.3.9)\nRequirement already satisfied: ibm-db>=2.0.0 in /opt/conda/envs/Python-3.8-main/lib/python3.8/site-packages (from ibm_db_sa) (3.0.4)\nRequirement already satisfied: ipython-sql in /opt/conda/envs/Python-3.8-main/lib/python3.8/site-packages (0.4.0)\nRequirement already satisfied: ipython>=1.0 in /opt/conda/envs/Python-3.8-main/lib/python3.8/site-packages (from ipython-sql) (7.22.0)\nRequirement already satisfied: sqlalchemy>=0.6.7 in /opt/conda/envs/Python-3.8-main/lib/python3.8/site-packages (from ipython-sql) (1.3.9)\nRequirement already satisfied: prettytable<1 in /opt/conda/envs/Python-3.8-main/lib/python3.8/site-packages (from ipython-sql) (0.7.2)\nRequirement already satisfied: six in /opt/conda/envs/Python-3.8-main/lib/python3.8/site-packages (from ipython-sql) (1.15.0)\nRequirement already satisfied: sqlparse in /opt/conda/envs/Python-3.8-main/lib/python3.8/site-packages (from ipython-sql) (0.4.2)\nRequirement already satisfied: ipython-genutils>=0.1.0 in /opt/conda/envs/Python-3.8-main/lib/python3.8/site-packages (from ipython-sql) (0.2.0)\nRequirement already satisfied: jedi>=0.16 in /opt/conda/envs/Python-3.8-main/lib/python3.8/site-packages (from ipython>=1.0->ipython-sql) (0.17.2)\nRequirement already satisfied: backcall in /opt/conda/envs/Python-3.8-main/lib/python3.8/site-packages (from ipython>=1.0->ipython-sql) (0.2.0)\nRequirement already satisfied: setuptools>=18.5 in /opt/conda/envs/Python-3.8-main/lib/python3.8/site-packages (from ipython>=1.0->ipython-sql) (52.0.0.post20210125)\nRequirement already satisfied: pexpect>4.3 in /opt/conda/envs/Python-3.8-main/lib/python3.8/site-packages (from ipython>=1.0->ipython-sql) (4.8.0)\nRequirement already satisfied: pickleshare in /opt/conda/envs/Python-3.8-main/lib/python3.8/site-packages (from ipython>=1.0->ipython-sql) (0.7.5)\nRequirement already satisfied: prompt-toolkit!=3.0.0,!=3.0.1,<3.1.0,>=2.0.0 in /opt/conda/envs/Python-3.8-main/lib/python3.8/site-packages (from ipython>=1.0->ipython-sql) (3.0.17)\nRequirement already satisfied: traitlets>=4.2 in /opt/conda/envs/Python-3.8-main/lib/python3.8/site-packages (from ipython>=1.0->ipython-sql) (5.0.5)\nRequirement already satisfied: decorator in /opt/conda/envs/Python-3.8-main/lib/python3.8/site-packages (from ipython>=1.0->ipython-sql) (5.0.9)\nRequirement already satisfied: pygments in /opt/conda/envs/Python-3.8-main/lib/python3.8/site-packages (from ipython>=1.0->ipython-sql) (2.9.0)\nRequirement already satisfied: parso<0.8.0,>=0.7.0 in /opt/conda/envs/Python-3.8-main/lib/python3.8/site-packages (from jedi>=0.16->ipython>=1.0->ipython-sql) (0.7.0)\nRequirement already satisfied: ptyprocess>=0.5 in /opt/conda/envs/Python-3.8-main/lib/python3.8/site-packages (from pexpect>4.3->ipython>=1.0->ipython-sql) (0.7.0)\nRequirement already satisfied: wcwidth in /opt/conda/envs/Python-3.8-main/lib/python3.8/site-packages (from prompt-toolkit!=3.0.0,!=3.0.1,<3.1.0,>=2.0.0->ipython>=1.0->ipython-sql) (0.2.5)\nRequirement already satisfied: ibm_db in /opt/conda/envs/Python-3.8-main/lib/python3.8/site-packages (3.0.4)\nRequirement already satisfied: ibm_db_sa in /opt/conda/envs/Python-3.8-main/lib/python3.8/site-packages (0.3.7)\nRequirement already satisfied: ibm-db>=2.0.0 in /opt/conda/envs/Python-3.8-main/lib/python3.8/site-packages (from ibm_db_sa) (3.0.4)\nRequirement already satisfied: sqlalchemy>=0.7.3 in /opt/conda/envs/Python-3.8-main/lib/python3.8/site-packages (from ibm_db_sa) (1.3.9)\n",
                    "name": "stdout"
                }
            ]
        },
        {
            "metadata": {},
            "cell_type": "markdown",
            "source": "### Connect to the database\n\nLet us first load the SQL extension and establish a connection with the database\n"
        },
        {
            "metadata": {},
            "cell_type": "code",
            "source": "%load_ext sql",
            "execution_count": 1,
            "outputs": []
        },
        {
            "metadata": {},
            "cell_type": "markdown",
            "source": "**DB2 magic in case of old UI service credentials.**\n\nIn the next cell enter your db2 connection string. Recall you created Service Credentials for your Db2 instance before. From the **uri** field of your Db2 service credentials copy everything after db2:// (except the double quote at the end) and paste it in the cell below after ibm_db_sa://\n\n<img src =\"https://cf-courses-data.s3.us.cloud-object-storage.appdomain.cloud/IBMDeveloperSkillsNetwork-DB0201EN-SkillsNetwork/labs/FinalModule_edX/images/URI.jpg\">\n\nin the following format\n\n**%sql ibm_db_sa://my-username:my-password\\@my-hostname:my-port/my-db-name**\n\n**DB2 magic in case of new UI service credentials.**\n\n<img src =\"https://cf-courses-data.s3.us.cloud-object-storage.appdomain.cloud/IBM-DS0321EN-SkillsNetwork/labs/module_2/images/servicecredentials.png\" width=600>  \n\n*   Use the following format.\n\n*   Add security=SSL at the end\n\n**%sql ibm_db_sa://my-username:my-password\\@my-hostname:my-port/my-db-name?security=SSL**\n"
        },
        {
            "metadata": {
                "scrolled": true
            },
            "cell_type": "code",
            "source": "# Load data\nimport os, types\nimport pandas as pd\nfrom botocore.client import Config\nimport ibm_boto3\n\n\nif os.environ.get('RUNTIME_ENV_LOCATION_TYPE') == 'external':\n    endpoint_52c663bb30e94959b73f86d9754b1c6a = 'https://s3.us.cloud-object-storage.appdomain.cloud'\nelse:\n    endpoint_52c663bb30e94959b73f86d9754b1c6a = 'https://s3.private.us.cloud-object-storage.appdomain.cloud'\n\nclient_52c663bb30e94959b73f86d9754b1c6a = ibm_boto3.client(service_name='s3',\n    ibm_api_key_id='9XTMf-Wdi-7fZ-8hyzpjSYMya6wYT03jeREfADf5yaHW',\n    ibm_auth_endpoint=\"https://iam.cloud.ibm.com/oidc/token\",\n    config=Config(signature_version='oauth'),\n    endpoint_url=endpoint_52c663bb30e94959b73f86d9754b1c6a)\n\nbody = client_52c663bb30e94959b73f86d9754b1c6a.get_object(Bucket='ibmdatasciencecapstoneproject-donotdelete-pr-ic51zifklby6nm',Key='Spacex.csv')['Body']\n# add missing __iter__ method, so pandas accepts body as file-like object\nif not hasattr(body, \"__iter__\"): body.__iter__ = types.MethodType( __iter__, body )\n\ndf_data_1 = pd.read_csv(body)\ndf_data_1.head()",
            "execution_count": 13,
            "outputs": [
                {
                    "output_type": "execute_result",
                    "execution_count": 13,
                    "data": {
                        "text/plain": "         Date Time (UTC) Booster_Version  Launch_Site  \\\n0  04-06-2010   18:45:00  F9 v1.0  B0003  CCAFS LC-40   \n1  08-12-2010   15:43:00  F9 v1.0  B0004  CCAFS LC-40   \n2  22-05-2012   07:44:00  F9 v1.0  B0005  CCAFS LC-40   \n3  08-10-2012   00:35:00  F9 v1.0  B0006  CCAFS LC-40   \n4  01-03-2013   15:10:00  F9 v1.0  B0007  CCAFS LC-40   \n\n                                             Payload  PAYLOAD_MASS__KG_  \\\n0               Dragon Spacecraft Qualification Unit                  0   \n1  Dragon demo flight C1, two CubeSats, barrel of...                  0   \n2                              Dragon demo flight C2                525   \n3                                       SpaceX CRS-1                500   \n4                                       SpaceX CRS-2                677   \n\n       Orbit         Customer Mission_Outcome     Landing _Outcome  \n0        LEO           SpaceX         Success  Failure (parachute)  \n1  LEO (ISS)  NASA (COTS) NRO         Success  Failure (parachute)  \n2  LEO (ISS)      NASA (COTS)         Success           No attempt  \n3  LEO (ISS)       NASA (CRS)         Success           No attempt  \n4  LEO (ISS)       NASA (CRS)         Success           No attempt  ",
                        "text/html": "<div>\n<style scoped>\n    .dataframe tbody tr th:only-of-type {\n        vertical-align: middle;\n    }\n\n    .dataframe tbody tr th {\n        vertical-align: top;\n    }\n\n    .dataframe thead th {\n        text-align: right;\n    }\n</style>\n<table border=\"1\" class=\"dataframe\">\n  <thead>\n    <tr style=\"text-align: right;\">\n      <th></th>\n      <th>Date</th>\n      <th>Time (UTC)</th>\n      <th>Booster_Version</th>\n      <th>Launch_Site</th>\n      <th>Payload</th>\n      <th>PAYLOAD_MASS__KG_</th>\n      <th>Orbit</th>\n      <th>Customer</th>\n      <th>Mission_Outcome</th>\n      <th>Landing _Outcome</th>\n    </tr>\n  </thead>\n  <tbody>\n    <tr>\n      <th>0</th>\n      <td>04-06-2010</td>\n      <td>18:45:00</td>\n      <td>F9 v1.0  B0003</td>\n      <td>CCAFS LC-40</td>\n      <td>Dragon Spacecraft Qualification Unit</td>\n      <td>0</td>\n      <td>LEO</td>\n      <td>SpaceX</td>\n      <td>Success</td>\n      <td>Failure (parachute)</td>\n    </tr>\n    <tr>\n      <th>1</th>\n      <td>08-12-2010</td>\n      <td>15:43:00</td>\n      <td>F9 v1.0  B0004</td>\n      <td>CCAFS LC-40</td>\n      <td>Dragon demo flight C1, two CubeSats, barrel of...</td>\n      <td>0</td>\n      <td>LEO (ISS)</td>\n      <td>NASA (COTS) NRO</td>\n      <td>Success</td>\n      <td>Failure (parachute)</td>\n    </tr>\n    <tr>\n      <th>2</th>\n      <td>22-05-2012</td>\n      <td>07:44:00</td>\n      <td>F9 v1.0  B0005</td>\n      <td>CCAFS LC-40</td>\n      <td>Dragon demo flight C2</td>\n      <td>525</td>\n      <td>LEO (ISS)</td>\n      <td>NASA (COTS)</td>\n      <td>Success</td>\n      <td>No attempt</td>\n    </tr>\n    <tr>\n      <th>3</th>\n      <td>08-10-2012</td>\n      <td>00:35:00</td>\n      <td>F9 v1.0  B0006</td>\n      <td>CCAFS LC-40</td>\n      <td>SpaceX CRS-1</td>\n      <td>500</td>\n      <td>LEO (ISS)</td>\n      <td>NASA (CRS)</td>\n      <td>Success</td>\n      <td>No attempt</td>\n    </tr>\n    <tr>\n      <th>4</th>\n      <td>01-03-2013</td>\n      <td>15:10:00</td>\n      <td>F9 v1.0  B0007</td>\n      <td>CCAFS LC-40</td>\n      <td>SpaceX CRS-2</td>\n      <td>677</td>\n      <td>LEO (ISS)</td>\n      <td>NASA (CRS)</td>\n      <td>Success</td>\n      <td>No attempt</td>\n    </tr>\n  </tbody>\n</table>\n</div>"
                    },
                    "metadata": {}
                }
            ]
        },
        {
            "metadata": {},
            "cell_type": "code",
            "source": "import sqlalchemy\nfrom sqlalchemy import create_engine\nfrom sqlalchemy import Table, Column, Integer, String, MetaData, ForeignKey\nfrom sqlalchemy import inspect",
            "execution_count": 14,
            "outputs": []
        },
        {
            "metadata": {},
            "cell_type": "code",
            "source": "metadata = MetaData()\nengine = create_engine('sqlite:///spacex.db')\nmetadata.create_all(engine)",
            "execution_count": 15,
            "outputs": []
        },
        {
            "metadata": {},
            "cell_type": "code",
            "source": "df_data_1.to_sql('space', engine, method='multi')",
            "execution_count": 19,
            "outputs": []
        },
        {
            "metadata": {},
            "cell_type": "markdown",
            "source": "## Tasks\n\nNow write and execute SQL queries to solve the assignment tasks.\n\n### Task 1\n\n##### Display the names of the unique launch sites  in the space mission\n"
        },
        {
            "metadata": {},
            "cell_type": "code",
            "source": "df_data_1[\"Launch_Site\"].unique()",
            "execution_count": 21,
            "outputs": [
                {
                    "output_type": "execute_result",
                    "execution_count": 21,
                    "data": {
                        "text/plain": "array(['CCAFS LC-40', 'VAFB SLC-4E', 'KSC LC-39A', 'CCAFS SLC-40'],\n      dtype=object)"
                    },
                    "metadata": {}
                }
            ]
        },
        {
            "metadata": {},
            "cell_type": "markdown",
            "source": "### Task 2\n\n##### Display 5 records where launch sites begin with the string 'CCA'\n"
        },
        {
            "metadata": {},
            "cell_type": "code",
            "source": "df_data_1.loc[[s.startswith('CCA') for s in df_data_1[\"Launch_Site\"].tolist()], :]",
            "execution_count": 33,
            "outputs": [
                {
                    "output_type": "execute_result",
                    "execution_count": 33,
                    "data": {
                        "text/plain": "          Date Time (UTC) Booster_Version   Launch_Site  \\\n0   04-06-2010   18:45:00  F9 v1.0  B0003   CCAFS LC-40   \n1   08-12-2010   15:43:00  F9 v1.0  B0004   CCAFS LC-40   \n2   22-05-2012   07:44:00  F9 v1.0  B0005   CCAFS LC-40   \n3   08-10-2012   00:35:00  F9 v1.0  B0006   CCAFS LC-40   \n4   01-03-2013   15:10:00  F9 v1.0  B0007   CCAFS LC-40   \n6   03-12-2013   22:41:00         F9 v1.1   CCAFS LC-40   \n7   06-01-2014   22:06:00         F9 v1.1   CCAFS LC-40   \n8   18-04-2014   19:25:00         F9 v1.1   CCAFS LC-40   \n9   14-07-2014   15:15:00         F9 v1.1   CCAFS LC-40   \n10  05-08-2014   08:00:00         F9 v1.1   CCAFS LC-40   \n11  07-09-2014   05:00:00   F9 v1.1 B1011   CCAFS LC-40   \n12  21-09-2014   05:52:00   F9 v1.1 B1010   CCAFS LC-40   \n13  10-01-2015   09:47:00   F9 v1.1 B1012   CCAFS LC-40   \n14  11-02-2015   23:03:00   F9 v1.1 B1013   CCAFS LC-40   \n15  02-03-2015   03:50:00   F9 v1.1 B1014   CCAFS LC-40   \n16  14-04-2015   20:10:00   F9 v1.1 B1015   CCAFS LC-40   \n17  27-04-2015   23:03:00   F9 v1.1 B1016   CCAFS LC-40   \n18  28-06-2015   14:21:00   F9 v1.1 B1018   CCAFS LC-40   \n19  22-12-2015   01:29:00     F9 FT B1019   CCAFS LC-40   \n21  04-03-2016   23:35:00     F9 FT B1020   CCAFS LC-40   \n22  08-04-2016   20:43:00   F9 FT B1021.1   CCAFS LC-40   \n23  06-05-2016   05:21:00     F9 FT B1022   CCAFS LC-40   \n24  27-05-2016   21:39:00   F9 FT B1023.1   CCAFS LC-40   \n25  15-06-2016   14:29:00     F9 FT B1024   CCAFS LC-40   \n26  18-07-2016   04:45:00   F9 FT B1025.1   CCAFS LC-40   \n27  14-08-2016   05:26:00     F9 FT B1026   CCAFS LC-40   \n44  15-12-2017   15:36:00  F9 FT  B1035.2  CCAFS SLC-40   \n46  08-01-2018   01:00:00   F9 B4 B1043.1  CCAFS SLC-40   \n47  31-01-2018   21:25:00  F9 FT  B1032.2  CCAFS SLC-40   \n49  06-03-2018   05:33:00     F9 B4 B1044  CCAFS SLC-40   \n51  02-04-2018   20:30:00  F9 B4  B1039.2  CCAFS SLC-40   \n52  18-04-2018   22:51:00   F9 B4 B1045.1  CCAFS SLC-40   \n55  04-06-2018   04:45:00  F9 B4  B1040.2  CCAFS SLC-40   \n56  29-06-2018   09:42:00   F9 B4 B1045.2  CCAFS SLC-40   \n57  22-07-2018   05:50:00    F9 B5B1047.1  CCAFS SLC-40   \n59  07-08-2018   05:18:00   F9 B5 B1046.2  CCAFS SLC-40   \n60  10-09-2018   04:45:00    F9 B5B1049.1  CCAFS SLC-40   \n64  05-12-2018   18:16:00      F9 B5B1050  CCAFS SLC-40   \n65  23-12-2018   13:51:00      F9 B5B1054  CCAFS SLC-40   \n67  22-02-2019   01:45:00   F9 B5 B1048.3  CCAFS SLC-40   \n69  04-05-2019   06:48:00   F9 B5B1056.1   CCAFS SLC-40   \n70  24-05-2019   02:30:00   F9 B5 B1049.3  CCAFS SLC-40   \n72  25-07-2019   22:01:00  F9 B5 B1056.2   CCAFS SLC-40   \n73  06-08-2019   23:23:00  F9 B5 B1047.3   CCAFS SLC-40   \n74  11-11-2019   14:56:00   F9 B5 B1048.4  CCAFS SLC-40   \n75  05-12-2019   17:29:00    F9 B5B1059.1  CCAFS SLC-40   \n76  17-12-2019   00:10:00  F9 B5 B1056.3   CCAFS SLC-40   \n77  07-01-2020   02:33:00   F9 B5 B1049.4  CCAFS SLC-40   \n79  29-01-2020   14:07:00   F9 B5 B1051.3  CCAFS SLC-40   \n80  17-02-2020   15:05:00   F9 B5 B1056.4  CCAFS SLC-40   \n81  07-03-2020   04:50:00   F9 B5 B1059.2  CCAFS SLC-40   \n85  04-06-2020   01:25:00   F9 B5 B1049.5  CCAFS SLC-40   \n86  13-06-2020   09:21:00   F9 B5 B1059.3  CCAFS SLC-40   \n87  30-06-2020   20:10:46    F9 B5B1060.1  CCAFS SLC-40   \n88  20-07-2020   21:30:00  F9 B5 B1058.2   CCAFS SLC-40   \n90  18-08-2020   14:31:00   F9 B5 B1049.6  CCAFS SLC-40   \n91  30-08-2020   23:18:00   F9 B5 B1059.4  CCAFS SLC-40   \n95  24-10-2020   15:31:34   F9 B5 B1060.3  CCAFS SLC-40   \n96  05-11-2020   23:24:23    F9 B5B1062.1  CCAFS SLC-40   \n99  25-11-2020   02:13:00  F9 B5 B1049.7   CCAFS SLC-40   \n\n                                              Payload  PAYLOAD_MASS__KG_  \\\n0                Dragon Spacecraft Qualification Unit                  0   \n1   Dragon demo flight C1, two CubeSats, barrel of...                  0   \n2                               Dragon demo flight C2                525   \n3                                        SpaceX CRS-1                500   \n4                                        SpaceX CRS-2                677   \n6                                               SES-8               3170   \n7                                           Thaicom 6               3325   \n8                                        SpaceX CRS-3               2296   \n9             OG2 Mission 1  6 Orbcomm-OG2 satellites               1316   \n10                                          AsiaSat 8               4535   \n11                                          AsiaSat 6               4428   \n12                                       SpaceX CRS-4               2216   \n13                                       SpaceX CRS-5               2395   \n14                                             DSCOVR                570   \n15                         ABS-3A Eutelsat 115 West B               4159   \n16                                       SpaceX CRS-6               1898   \n17                             Turkmen 52 / MonacoSAT               4707   \n18                                       SpaceX CRS-7               1952   \n19           OG2 Mission 2  11 Orbcomm-OG2 satellites               2034   \n21                                              SES-9               5271   \n22                                       SpaceX CRS-8               3136   \n23                                           JCSAT-14               4696   \n24                                          Thaicom 8               3100   \n25                         ABS-2A Eutelsat 117 West B               3600   \n26                                       SpaceX CRS-9               2257   \n27                                           JCSAT-16               4600   \n44                                      SpaceX CRS-13               2205   \n46                                               Zuma               5000   \n47                                  GovSat-1 / SES-16               4230   \n49                             Hispasat 30W-6  PODSat               6092   \n51                                      SpaceX CRS-14               2647   \n52       Transiting Exoplanet Survey Satellite (TESS)                362   \n55                                             SES-12               5384   \n56                                      SpaceX CRS-15               2697   \n57                                        Telstar 19V               7075   \n59                                       Merah Putih                5800   \n60                            Telstar 18V / Apstar-5C               7060   \n64                                      SpaceX CRS-16               2500   \n65                                        GPS III-01                4400   \n67          Nusantara Satu, Beresheet Moon lander, S5               4850   \n69                       SpaceX CRS-17, Starlink v0.9               2495   \n70              Starlink v0.9, RADARSAT Constellation              13620   \n72                            SpaceX CRS-18, AMOS-17                2268   \n73                          AMOS-17, Starlink 1 v1.0                6500   \n74                    Starlink 1 v1.0, SpaceX CRS-19               15600   \n75               SpaceX CRS-19, JCSat-18 / Kacific 1                2617   \n76             JCSat-18 / Kacific 1, Starlink 2 v1.0                6956   \n77  Starlink 2 v1.0, Crew Dragon in-flight abort t...              15600   \n79                  Starlink 3 v1.0, Starlink 4 v1.0               15600   \n80                     Starlink 4 v1.0, SpaceX CRS-20              15600   \n81                    SpaceX CRS-20, Starlink 5 v1.0                1977   \n85                   Starlink 7 v1.0, Starlink 8 v1.0              15600   \n86  Starlink 8 v1.0, SkySats-16, -17, -18, GPS III...              15410   \n87                              GPS III-03, ANASIS-II               4311   \n88                         ANASIS-II, Starlink 9 v1.0               5500   \n90  Starlink 10 v1.0, SkySat-19, -20, -21, SAOCOM 1B               15440   \n91                    SAOCOM 1B, GNOMES 1, Tyvak-0172               3130   \n95                     Starlink 14 v1.0, GPS III-04                15600   \n96                                GPS III-04 , Crew-1               4311   \n99                    Starlink 15 v1.0, SpaceX CRS-21              15600   \n\n        Orbit                                           Customer  \\\n0         LEO                                             SpaceX   \n1   LEO (ISS)                                    NASA (COTS) NRO   \n2   LEO (ISS)                                        NASA (COTS)   \n3   LEO (ISS)                                         NASA (CRS)   \n4   LEO (ISS)                                         NASA (CRS)   \n6         GTO                                                SES   \n7         GTO                                            Thaicom   \n8   LEO (ISS)                                         NASA (CRS)   \n9         LEO                                            Orbcomm   \n10        GTO                                            AsiaSat   \n11        GTO                                            AsiaSat   \n12  LEO (ISS)                                         NASA (CRS)   \n13  LEO (ISS)                                         NASA (CRS)   \n14        HEO                           U.S. Air Force NASA NOAA   \n15        GTO                                       ABS Eutelsat   \n16  LEO (ISS)                                         NASA (CRS)   \n17        GTO                 Turkmenistan National Space Agency   \n18  LEO (ISS)                                         NASA (CRS)   \n19        LEO                                            Orbcomm   \n21        GTO                                                SES   \n22  LEO (ISS)                                         NASA (CRS)   \n23        GTO                             SKY Perfect JSAT Group   \n24        GTO                                            Thaicom   \n25        GTO                                       ABS Eutelsat   \n26  LEO (ISS)                                         NASA (CRS)   \n27        GTO                             SKY Perfect JSAT Group   \n44  LEO (ISS)                                         NASA (CRS)   \n46        LEO                                   Northrop Grumman   \n47        GTO                                                SES   \n49        GTO                                Hispasat  NovaWurks   \n51  LEO (ISS)                                         NASA (CRS)   \n52        HEO                                         NASA (LSP)   \n55        GTO                                                SES   \n56  LEO (ISS)                                         NASA (CRS)   \n57        GTO                                            Telesat   \n59        GTO                                   Telkom Indonesia   \n60        GTO                                            Telesat   \n64  LEO (ISS)                                         NASA (CRS)   \n65        MEO                                               USAF   \n67        GTO                                 PSN, SpaceIL / IAI   \n69  LEO (ISS)                                         NASA (CRS)   \n70        LEO                                             SpaceX   \n72  LEO (ISS)                                         NASA (CRS)   \n73        GTO                                           Spacecom   \n74        LEO                                             SpaceX   \n75  LEO (ISS)                              NASA (CRS), Kacific 1   \n76        GTO                        Sky Perfect JSAT, Kacific 1   \n77        LEO                                             SpaceX   \n79        LEO                                             SpaceX   \n80        LEO                                             SpaceX   \n81  LEO (ISS)                                         NASA (CRS)   \n85        LEO                                SpaceX, Planet Labs   \n86        LEO                                SpaceX, Planet Labs   \n87        MEO                                   U.S. Space Force   \n88        GTO  Republic of Korea Army, Spaceflight Industries...   \n90        LEO                      SpaceX, Planet Labs, PlanetIQ   \n91        SSO                            CONAE, PlanetIQ, SpaceX   \n95        LEO                                             SpaceX   \n96        MEO                                               USSF   \n99        LEO                                             SpaceX   \n\n                     Mission_Outcome        Landing _Outcome  \n0                            Success     Failure (parachute)  \n1                            Success     Failure (parachute)  \n2                            Success              No attempt  \n3                            Success              No attempt  \n4                            Success              No attempt  \n6                            Success              No attempt  \n7                            Success              No attempt  \n8                            Success      Controlled (ocean)  \n9                            Success      Controlled (ocean)  \n10                           Success              No attempt  \n11                           Success              No attempt  \n12                           Success    Uncontrolled (ocean)  \n13                           Success    Failure (drone ship)  \n14                           Success      Controlled (ocean)  \n15                           Success              No attempt  \n16                           Success    Failure (drone ship)  \n17                           Success              No attempt  \n18               Failure (in flight)  Precluded (drone ship)  \n19                           Success    Success (ground pad)  \n21                           Success    Failure (drone ship)  \n22                           Success    Success (drone ship)  \n23                           Success    Success (drone ship)  \n24                           Success    Success (drone ship)  \n25                           Success    Failure (drone ship)  \n26                           Success    Success (ground pad)  \n27                           Success    Success (drone ship)  \n44                           Success    Success (ground pad)  \n46  Success (payload status unclear)    Success (ground pad)  \n47                           Success      Controlled (ocean)  \n49                           Success              No attempt  \n51                           Success              No attempt  \n52                           Success    Success (drone ship)  \n55                           Success              No attempt  \n56                           Success              No attempt  \n57                           Success                 Success  \n59                           Success                 Success  \n60                           Success                 Success  \n64                           Success                 Failure  \n65                          Success               No attempt  \n67                           Success                 Success  \n69                           Success                 Success  \n70                           Success                 Success  \n72                           Success                 Success  \n73                           Success             No attempt   \n74                           Success                 Success  \n75                           Success                 Success  \n76                           Success                 Success  \n77                           Success                 Success  \n79                           Success                 Success  \n80                           Success                 Failure  \n81                           Success                 Success  \n85                           Success                 Success  \n86                           Success                 Success  \n87                           Success                 Success  \n88                           Success                 Success  \n90                           Success                 Success  \n91                           Success                 Success  \n95                           Success                 Success  \n96                           Success                 Success  \n99                           Success                 Success  ",
                        "text/html": "<div>\n<style scoped>\n    .dataframe tbody tr th:only-of-type {\n        vertical-align: middle;\n    }\n\n    .dataframe tbody tr th {\n        vertical-align: top;\n    }\n\n    .dataframe thead th {\n        text-align: right;\n    }\n</style>\n<table border=\"1\" class=\"dataframe\">\n  <thead>\n    <tr style=\"text-align: right;\">\n      <th></th>\n      <th>Date</th>\n      <th>Time (UTC)</th>\n      <th>Booster_Version</th>\n      <th>Launch_Site</th>\n      <th>Payload</th>\n      <th>PAYLOAD_MASS__KG_</th>\n      <th>Orbit</th>\n      <th>Customer</th>\n      <th>Mission_Outcome</th>\n      <th>Landing _Outcome</th>\n    </tr>\n  </thead>\n  <tbody>\n    <tr>\n      <th>0</th>\n      <td>04-06-2010</td>\n      <td>18:45:00</td>\n      <td>F9 v1.0  B0003</td>\n      <td>CCAFS LC-40</td>\n      <td>Dragon Spacecraft Qualification Unit</td>\n      <td>0</td>\n      <td>LEO</td>\n      <td>SpaceX</td>\n      <td>Success</td>\n      <td>Failure (parachute)</td>\n    </tr>\n    <tr>\n      <th>1</th>\n      <td>08-12-2010</td>\n      <td>15:43:00</td>\n      <td>F9 v1.0  B0004</td>\n      <td>CCAFS LC-40</td>\n      <td>Dragon demo flight C1, two CubeSats, barrel of...</td>\n      <td>0</td>\n      <td>LEO (ISS)</td>\n      <td>NASA (COTS) NRO</td>\n      <td>Success</td>\n      <td>Failure (parachute)</td>\n    </tr>\n    <tr>\n      <th>2</th>\n      <td>22-05-2012</td>\n      <td>07:44:00</td>\n      <td>F9 v1.0  B0005</td>\n      <td>CCAFS LC-40</td>\n      <td>Dragon demo flight C2</td>\n      <td>525</td>\n      <td>LEO (ISS)</td>\n      <td>NASA (COTS)</td>\n      <td>Success</td>\n      <td>No attempt</td>\n    </tr>\n    <tr>\n      <th>3</th>\n      <td>08-10-2012</td>\n      <td>00:35:00</td>\n      <td>F9 v1.0  B0006</td>\n      <td>CCAFS LC-40</td>\n      <td>SpaceX CRS-1</td>\n      <td>500</td>\n      <td>LEO (ISS)</td>\n      <td>NASA (CRS)</td>\n      <td>Success</td>\n      <td>No attempt</td>\n    </tr>\n    <tr>\n      <th>4</th>\n      <td>01-03-2013</td>\n      <td>15:10:00</td>\n      <td>F9 v1.0  B0007</td>\n      <td>CCAFS LC-40</td>\n      <td>SpaceX CRS-2</td>\n      <td>677</td>\n      <td>LEO (ISS)</td>\n      <td>NASA (CRS)</td>\n      <td>Success</td>\n      <td>No attempt</td>\n    </tr>\n    <tr>\n      <th>6</th>\n      <td>03-12-2013</td>\n      <td>22:41:00</td>\n      <td>F9 v1.1</td>\n      <td>CCAFS LC-40</td>\n      <td>SES-8</td>\n      <td>3170</td>\n      <td>GTO</td>\n      <td>SES</td>\n      <td>Success</td>\n      <td>No attempt</td>\n    </tr>\n    <tr>\n      <th>7</th>\n      <td>06-01-2014</td>\n      <td>22:06:00</td>\n      <td>F9 v1.1</td>\n      <td>CCAFS LC-40</td>\n      <td>Thaicom 6</td>\n      <td>3325</td>\n      <td>GTO</td>\n      <td>Thaicom</td>\n      <td>Success</td>\n      <td>No attempt</td>\n    </tr>\n    <tr>\n      <th>8</th>\n      <td>18-04-2014</td>\n      <td>19:25:00</td>\n      <td>F9 v1.1</td>\n      <td>CCAFS LC-40</td>\n      <td>SpaceX CRS-3</td>\n      <td>2296</td>\n      <td>LEO (ISS)</td>\n      <td>NASA (CRS)</td>\n      <td>Success</td>\n      <td>Controlled (ocean)</td>\n    </tr>\n    <tr>\n      <th>9</th>\n      <td>14-07-2014</td>\n      <td>15:15:00</td>\n      <td>F9 v1.1</td>\n      <td>CCAFS LC-40</td>\n      <td>OG2 Mission 1  6 Orbcomm-OG2 satellites</td>\n      <td>1316</td>\n      <td>LEO</td>\n      <td>Orbcomm</td>\n      <td>Success</td>\n      <td>Controlled (ocean)</td>\n    </tr>\n    <tr>\n      <th>10</th>\n      <td>05-08-2014</td>\n      <td>08:00:00</td>\n      <td>F9 v1.1</td>\n      <td>CCAFS LC-40</td>\n      <td>AsiaSat 8</td>\n      <td>4535</td>\n      <td>GTO</td>\n      <td>AsiaSat</td>\n      <td>Success</td>\n      <td>No attempt</td>\n    </tr>\n    <tr>\n      <th>11</th>\n      <td>07-09-2014</td>\n      <td>05:00:00</td>\n      <td>F9 v1.1 B1011</td>\n      <td>CCAFS LC-40</td>\n      <td>AsiaSat 6</td>\n      <td>4428</td>\n      <td>GTO</td>\n      <td>AsiaSat</td>\n      <td>Success</td>\n      <td>No attempt</td>\n    </tr>\n    <tr>\n      <th>12</th>\n      <td>21-09-2014</td>\n      <td>05:52:00</td>\n      <td>F9 v1.1 B1010</td>\n      <td>CCAFS LC-40</td>\n      <td>SpaceX CRS-4</td>\n      <td>2216</td>\n      <td>LEO (ISS)</td>\n      <td>NASA (CRS)</td>\n      <td>Success</td>\n      <td>Uncontrolled (ocean)</td>\n    </tr>\n    <tr>\n      <th>13</th>\n      <td>10-01-2015</td>\n      <td>09:47:00</td>\n      <td>F9 v1.1 B1012</td>\n      <td>CCAFS LC-40</td>\n      <td>SpaceX CRS-5</td>\n      <td>2395</td>\n      <td>LEO (ISS)</td>\n      <td>NASA (CRS)</td>\n      <td>Success</td>\n      <td>Failure (drone ship)</td>\n    </tr>\n    <tr>\n      <th>14</th>\n      <td>11-02-2015</td>\n      <td>23:03:00</td>\n      <td>F9 v1.1 B1013</td>\n      <td>CCAFS LC-40</td>\n      <td>DSCOVR</td>\n      <td>570</td>\n      <td>HEO</td>\n      <td>U.S. Air Force NASA NOAA</td>\n      <td>Success</td>\n      <td>Controlled (ocean)</td>\n    </tr>\n    <tr>\n      <th>15</th>\n      <td>02-03-2015</td>\n      <td>03:50:00</td>\n      <td>F9 v1.1 B1014</td>\n      <td>CCAFS LC-40</td>\n      <td>ABS-3A Eutelsat 115 West B</td>\n      <td>4159</td>\n      <td>GTO</td>\n      <td>ABS Eutelsat</td>\n      <td>Success</td>\n      <td>No attempt</td>\n    </tr>\n    <tr>\n      <th>16</th>\n      <td>14-04-2015</td>\n      <td>20:10:00</td>\n      <td>F9 v1.1 B1015</td>\n      <td>CCAFS LC-40</td>\n      <td>SpaceX CRS-6</td>\n      <td>1898</td>\n      <td>LEO (ISS)</td>\n      <td>NASA (CRS)</td>\n      <td>Success</td>\n      <td>Failure (drone ship)</td>\n    </tr>\n    <tr>\n      <th>17</th>\n      <td>27-04-2015</td>\n      <td>23:03:00</td>\n      <td>F9 v1.1 B1016</td>\n      <td>CCAFS LC-40</td>\n      <td>Turkmen 52 / MonacoSAT</td>\n      <td>4707</td>\n      <td>GTO</td>\n      <td>Turkmenistan National Space Agency</td>\n      <td>Success</td>\n      <td>No attempt</td>\n    </tr>\n    <tr>\n      <th>18</th>\n      <td>28-06-2015</td>\n      <td>14:21:00</td>\n      <td>F9 v1.1 B1018</td>\n      <td>CCAFS LC-40</td>\n      <td>SpaceX CRS-7</td>\n      <td>1952</td>\n      <td>LEO (ISS)</td>\n      <td>NASA (CRS)</td>\n      <td>Failure (in flight)</td>\n      <td>Precluded (drone ship)</td>\n    </tr>\n    <tr>\n      <th>19</th>\n      <td>22-12-2015</td>\n      <td>01:29:00</td>\n      <td>F9 FT B1019</td>\n      <td>CCAFS LC-40</td>\n      <td>OG2 Mission 2  11 Orbcomm-OG2 satellites</td>\n      <td>2034</td>\n      <td>LEO</td>\n      <td>Orbcomm</td>\n      <td>Success</td>\n      <td>Success (ground pad)</td>\n    </tr>\n    <tr>\n      <th>21</th>\n      <td>04-03-2016</td>\n      <td>23:35:00</td>\n      <td>F9 FT B1020</td>\n      <td>CCAFS LC-40</td>\n      <td>SES-9</td>\n      <td>5271</td>\n      <td>GTO</td>\n      <td>SES</td>\n      <td>Success</td>\n      <td>Failure (drone ship)</td>\n    </tr>\n    <tr>\n      <th>22</th>\n      <td>08-04-2016</td>\n      <td>20:43:00</td>\n      <td>F9 FT B1021.1</td>\n      <td>CCAFS LC-40</td>\n      <td>SpaceX CRS-8</td>\n      <td>3136</td>\n      <td>LEO (ISS)</td>\n      <td>NASA (CRS)</td>\n      <td>Success</td>\n      <td>Success (drone ship)</td>\n    </tr>\n    <tr>\n      <th>23</th>\n      <td>06-05-2016</td>\n      <td>05:21:00</td>\n      <td>F9 FT B1022</td>\n      <td>CCAFS LC-40</td>\n      <td>JCSAT-14</td>\n      <td>4696</td>\n      <td>GTO</td>\n      <td>SKY Perfect JSAT Group</td>\n      <td>Success</td>\n      <td>Success (drone ship)</td>\n    </tr>\n    <tr>\n      <th>24</th>\n      <td>27-05-2016</td>\n      <td>21:39:00</td>\n      <td>F9 FT B1023.1</td>\n      <td>CCAFS LC-40</td>\n      <td>Thaicom 8</td>\n      <td>3100</td>\n      <td>GTO</td>\n      <td>Thaicom</td>\n      <td>Success</td>\n      <td>Success (drone ship)</td>\n    </tr>\n    <tr>\n      <th>25</th>\n      <td>15-06-2016</td>\n      <td>14:29:00</td>\n      <td>F9 FT B1024</td>\n      <td>CCAFS LC-40</td>\n      <td>ABS-2A Eutelsat 117 West B</td>\n      <td>3600</td>\n      <td>GTO</td>\n      <td>ABS Eutelsat</td>\n      <td>Success</td>\n      <td>Failure (drone ship)</td>\n    </tr>\n    <tr>\n      <th>26</th>\n      <td>18-07-2016</td>\n      <td>04:45:00</td>\n      <td>F9 FT B1025.1</td>\n      <td>CCAFS LC-40</td>\n      <td>SpaceX CRS-9</td>\n      <td>2257</td>\n      <td>LEO (ISS)</td>\n      <td>NASA (CRS)</td>\n      <td>Success</td>\n      <td>Success (ground pad)</td>\n    </tr>\n    <tr>\n      <th>27</th>\n      <td>14-08-2016</td>\n      <td>05:26:00</td>\n      <td>F9 FT B1026</td>\n      <td>CCAFS LC-40</td>\n      <td>JCSAT-16</td>\n      <td>4600</td>\n      <td>GTO</td>\n      <td>SKY Perfect JSAT Group</td>\n      <td>Success</td>\n      <td>Success (drone ship)</td>\n    </tr>\n    <tr>\n      <th>44</th>\n      <td>15-12-2017</td>\n      <td>15:36:00</td>\n      <td>F9 FT  B1035.2</td>\n      <td>CCAFS SLC-40</td>\n      <td>SpaceX CRS-13</td>\n      <td>2205</td>\n      <td>LEO (ISS)</td>\n      <td>NASA (CRS)</td>\n      <td>Success</td>\n      <td>Success (ground pad)</td>\n    </tr>\n    <tr>\n      <th>46</th>\n      <td>08-01-2018</td>\n      <td>01:00:00</td>\n      <td>F9 B4 B1043.1</td>\n      <td>CCAFS SLC-40</td>\n      <td>Zuma</td>\n      <td>5000</td>\n      <td>LEO</td>\n      <td>Northrop Grumman</td>\n      <td>Success (payload status unclear)</td>\n      <td>Success (ground pad)</td>\n    </tr>\n    <tr>\n      <th>47</th>\n      <td>31-01-2018</td>\n      <td>21:25:00</td>\n      <td>F9 FT  B1032.2</td>\n      <td>CCAFS SLC-40</td>\n      <td>GovSat-1 / SES-16</td>\n      <td>4230</td>\n      <td>GTO</td>\n      <td>SES</td>\n      <td>Success</td>\n      <td>Controlled (ocean)</td>\n    </tr>\n    <tr>\n      <th>49</th>\n      <td>06-03-2018</td>\n      <td>05:33:00</td>\n      <td>F9 B4 B1044</td>\n      <td>CCAFS SLC-40</td>\n      <td>Hispasat 30W-6  PODSat</td>\n      <td>6092</td>\n      <td>GTO</td>\n      <td>Hispasat  NovaWurks</td>\n      <td>Success</td>\n      <td>No attempt</td>\n    </tr>\n    <tr>\n      <th>51</th>\n      <td>02-04-2018</td>\n      <td>20:30:00</td>\n      <td>F9 B4  B1039.2</td>\n      <td>CCAFS SLC-40</td>\n      <td>SpaceX CRS-14</td>\n      <td>2647</td>\n      <td>LEO (ISS)</td>\n      <td>NASA (CRS)</td>\n      <td>Success</td>\n      <td>No attempt</td>\n    </tr>\n    <tr>\n      <th>52</th>\n      <td>18-04-2018</td>\n      <td>22:51:00</td>\n      <td>F9 B4 B1045.1</td>\n      <td>CCAFS SLC-40</td>\n      <td>Transiting Exoplanet Survey Satellite (TESS)</td>\n      <td>362</td>\n      <td>HEO</td>\n      <td>NASA (LSP)</td>\n      <td>Success</td>\n      <td>Success (drone ship)</td>\n    </tr>\n    <tr>\n      <th>55</th>\n      <td>04-06-2018</td>\n      <td>04:45:00</td>\n      <td>F9 B4  B1040.2</td>\n      <td>CCAFS SLC-40</td>\n      <td>SES-12</td>\n      <td>5384</td>\n      <td>GTO</td>\n      <td>SES</td>\n      <td>Success</td>\n      <td>No attempt</td>\n    </tr>\n    <tr>\n      <th>56</th>\n      <td>29-06-2018</td>\n      <td>09:42:00</td>\n      <td>F9 B4 B1045.2</td>\n      <td>CCAFS SLC-40</td>\n      <td>SpaceX CRS-15</td>\n      <td>2697</td>\n      <td>LEO (ISS)</td>\n      <td>NASA (CRS)</td>\n      <td>Success</td>\n      <td>No attempt</td>\n    </tr>\n    <tr>\n      <th>57</th>\n      <td>22-07-2018</td>\n      <td>05:50:00</td>\n      <td>F9 B5B1047.1</td>\n      <td>CCAFS SLC-40</td>\n      <td>Telstar 19V</td>\n      <td>7075</td>\n      <td>GTO</td>\n      <td>Telesat</td>\n      <td>Success</td>\n      <td>Success</td>\n    </tr>\n    <tr>\n      <th>59</th>\n      <td>07-08-2018</td>\n      <td>05:18:00</td>\n      <td>F9 B5 B1046.2</td>\n      <td>CCAFS SLC-40</td>\n      <td>Merah Putih</td>\n      <td>5800</td>\n      <td>GTO</td>\n      <td>Telkom Indonesia</td>\n      <td>Success</td>\n      <td>Success</td>\n    </tr>\n    <tr>\n      <th>60</th>\n      <td>10-09-2018</td>\n      <td>04:45:00</td>\n      <td>F9 B5B1049.1</td>\n      <td>CCAFS SLC-40</td>\n      <td>Telstar 18V / Apstar-5C</td>\n      <td>7060</td>\n      <td>GTO</td>\n      <td>Telesat</td>\n      <td>Success</td>\n      <td>Success</td>\n    </tr>\n    <tr>\n      <th>64</th>\n      <td>05-12-2018</td>\n      <td>18:16:00</td>\n      <td>F9 B5B1050</td>\n      <td>CCAFS SLC-40</td>\n      <td>SpaceX CRS-16</td>\n      <td>2500</td>\n      <td>LEO (ISS)</td>\n      <td>NASA (CRS)</td>\n      <td>Success</td>\n      <td>Failure</td>\n    </tr>\n    <tr>\n      <th>65</th>\n      <td>23-12-2018</td>\n      <td>13:51:00</td>\n      <td>F9 B5B1054</td>\n      <td>CCAFS SLC-40</td>\n      <td>GPS III-01</td>\n      <td>4400</td>\n      <td>MEO</td>\n      <td>USAF</td>\n      <td>Success</td>\n      <td>No attempt</td>\n    </tr>\n    <tr>\n      <th>67</th>\n      <td>22-02-2019</td>\n      <td>01:45:00</td>\n      <td>F9 B5 B1048.3</td>\n      <td>CCAFS SLC-40</td>\n      <td>Nusantara Satu, Beresheet Moon lander, S5</td>\n      <td>4850</td>\n      <td>GTO</td>\n      <td>PSN, SpaceIL / IAI</td>\n      <td>Success</td>\n      <td>Success</td>\n    </tr>\n    <tr>\n      <th>69</th>\n      <td>04-05-2019</td>\n      <td>06:48:00</td>\n      <td>F9 B5B1056.1</td>\n      <td>CCAFS SLC-40</td>\n      <td>SpaceX CRS-17, Starlink v0.9</td>\n      <td>2495</td>\n      <td>LEO (ISS)</td>\n      <td>NASA (CRS)</td>\n      <td>Success</td>\n      <td>Success</td>\n    </tr>\n    <tr>\n      <th>70</th>\n      <td>24-05-2019</td>\n      <td>02:30:00</td>\n      <td>F9 B5 B1049.3</td>\n      <td>CCAFS SLC-40</td>\n      <td>Starlink v0.9, RADARSAT Constellation</td>\n      <td>13620</td>\n      <td>LEO</td>\n      <td>SpaceX</td>\n      <td>Success</td>\n      <td>Success</td>\n    </tr>\n    <tr>\n      <th>72</th>\n      <td>25-07-2019</td>\n      <td>22:01:00</td>\n      <td>F9 B5 B1056.2</td>\n      <td>CCAFS SLC-40</td>\n      <td>SpaceX CRS-18, AMOS-17</td>\n      <td>2268</td>\n      <td>LEO (ISS)</td>\n      <td>NASA (CRS)</td>\n      <td>Success</td>\n      <td>Success</td>\n    </tr>\n    <tr>\n      <th>73</th>\n      <td>06-08-2019</td>\n      <td>23:23:00</td>\n      <td>F9 B5 B1047.3</td>\n      <td>CCAFS SLC-40</td>\n      <td>AMOS-17, Starlink 1 v1.0</td>\n      <td>6500</td>\n      <td>GTO</td>\n      <td>Spacecom</td>\n      <td>Success</td>\n      <td>No attempt</td>\n    </tr>\n    <tr>\n      <th>74</th>\n      <td>11-11-2019</td>\n      <td>14:56:00</td>\n      <td>F9 B5 B1048.4</td>\n      <td>CCAFS SLC-40</td>\n      <td>Starlink 1 v1.0, SpaceX CRS-19</td>\n      <td>15600</td>\n      <td>LEO</td>\n      <td>SpaceX</td>\n      <td>Success</td>\n      <td>Success</td>\n    </tr>\n    <tr>\n      <th>75</th>\n      <td>05-12-2019</td>\n      <td>17:29:00</td>\n      <td>F9 B5B1059.1</td>\n      <td>CCAFS SLC-40</td>\n      <td>SpaceX CRS-19, JCSat-18 / Kacific 1</td>\n      <td>2617</td>\n      <td>LEO (ISS)</td>\n      <td>NASA (CRS), Kacific 1</td>\n      <td>Success</td>\n      <td>Success</td>\n    </tr>\n    <tr>\n      <th>76</th>\n      <td>17-12-2019</td>\n      <td>00:10:00</td>\n      <td>F9 B5 B1056.3</td>\n      <td>CCAFS SLC-40</td>\n      <td>JCSat-18 / Kacific 1, Starlink 2 v1.0</td>\n      <td>6956</td>\n      <td>GTO</td>\n      <td>Sky Perfect JSAT, Kacific 1</td>\n      <td>Success</td>\n      <td>Success</td>\n    </tr>\n    <tr>\n      <th>77</th>\n      <td>07-01-2020</td>\n      <td>02:33:00</td>\n      <td>F9 B5 B1049.4</td>\n      <td>CCAFS SLC-40</td>\n      <td>Starlink 2 v1.0, Crew Dragon in-flight abort t...</td>\n      <td>15600</td>\n      <td>LEO</td>\n      <td>SpaceX</td>\n      <td>Success</td>\n      <td>Success</td>\n    </tr>\n    <tr>\n      <th>79</th>\n      <td>29-01-2020</td>\n      <td>14:07:00</td>\n      <td>F9 B5 B1051.3</td>\n      <td>CCAFS SLC-40</td>\n      <td>Starlink 3 v1.0, Starlink 4 v1.0</td>\n      <td>15600</td>\n      <td>LEO</td>\n      <td>SpaceX</td>\n      <td>Success</td>\n      <td>Success</td>\n    </tr>\n    <tr>\n      <th>80</th>\n      <td>17-02-2020</td>\n      <td>15:05:00</td>\n      <td>F9 B5 B1056.4</td>\n      <td>CCAFS SLC-40</td>\n      <td>Starlink 4 v1.0, SpaceX CRS-20</td>\n      <td>15600</td>\n      <td>LEO</td>\n      <td>SpaceX</td>\n      <td>Success</td>\n      <td>Failure</td>\n    </tr>\n    <tr>\n      <th>81</th>\n      <td>07-03-2020</td>\n      <td>04:50:00</td>\n      <td>F9 B5 B1059.2</td>\n      <td>CCAFS SLC-40</td>\n      <td>SpaceX CRS-20, Starlink 5 v1.0</td>\n      <td>1977</td>\n      <td>LEO (ISS)</td>\n      <td>NASA (CRS)</td>\n      <td>Success</td>\n      <td>Success</td>\n    </tr>\n    <tr>\n      <th>85</th>\n      <td>04-06-2020</td>\n      <td>01:25:00</td>\n      <td>F9 B5 B1049.5</td>\n      <td>CCAFS SLC-40</td>\n      <td>Starlink 7 v1.0, Starlink 8 v1.0</td>\n      <td>15600</td>\n      <td>LEO</td>\n      <td>SpaceX, Planet Labs</td>\n      <td>Success</td>\n      <td>Success</td>\n    </tr>\n    <tr>\n      <th>86</th>\n      <td>13-06-2020</td>\n      <td>09:21:00</td>\n      <td>F9 B5 B1059.3</td>\n      <td>CCAFS SLC-40</td>\n      <td>Starlink 8 v1.0, SkySats-16, -17, -18, GPS III...</td>\n      <td>15410</td>\n      <td>LEO</td>\n      <td>SpaceX, Planet Labs</td>\n      <td>Success</td>\n      <td>Success</td>\n    </tr>\n    <tr>\n      <th>87</th>\n      <td>30-06-2020</td>\n      <td>20:10:46</td>\n      <td>F9 B5B1060.1</td>\n      <td>CCAFS SLC-40</td>\n      <td>GPS III-03, ANASIS-II</td>\n      <td>4311</td>\n      <td>MEO</td>\n      <td>U.S. Space Force</td>\n      <td>Success</td>\n      <td>Success</td>\n    </tr>\n    <tr>\n      <th>88</th>\n      <td>20-07-2020</td>\n      <td>21:30:00</td>\n      <td>F9 B5 B1058.2</td>\n      <td>CCAFS SLC-40</td>\n      <td>ANASIS-II, Starlink 9 v1.0</td>\n      <td>5500</td>\n      <td>GTO</td>\n      <td>Republic of Korea Army, Spaceflight Industries...</td>\n      <td>Success</td>\n      <td>Success</td>\n    </tr>\n    <tr>\n      <th>90</th>\n      <td>18-08-2020</td>\n      <td>14:31:00</td>\n      <td>F9 B5 B1049.6</td>\n      <td>CCAFS SLC-40</td>\n      <td>Starlink 10 v1.0, SkySat-19, -20, -21, SAOCOM 1B</td>\n      <td>15440</td>\n      <td>LEO</td>\n      <td>SpaceX, Planet Labs, PlanetIQ</td>\n      <td>Success</td>\n      <td>Success</td>\n    </tr>\n    <tr>\n      <th>91</th>\n      <td>30-08-2020</td>\n      <td>23:18:00</td>\n      <td>F9 B5 B1059.4</td>\n      <td>CCAFS SLC-40</td>\n      <td>SAOCOM 1B, GNOMES 1, Tyvak-0172</td>\n      <td>3130</td>\n      <td>SSO</td>\n      <td>CONAE, PlanetIQ, SpaceX</td>\n      <td>Success</td>\n      <td>Success</td>\n    </tr>\n    <tr>\n      <th>95</th>\n      <td>24-10-2020</td>\n      <td>15:31:34</td>\n      <td>F9 B5 B1060.3</td>\n      <td>CCAFS SLC-40</td>\n      <td>Starlink 14 v1.0, GPS III-04</td>\n      <td>15600</td>\n      <td>LEO</td>\n      <td>SpaceX</td>\n      <td>Success</td>\n      <td>Success</td>\n    </tr>\n    <tr>\n      <th>96</th>\n      <td>05-11-2020</td>\n      <td>23:24:23</td>\n      <td>F9 B5B1062.1</td>\n      <td>CCAFS SLC-40</td>\n      <td>GPS III-04 , Crew-1</td>\n      <td>4311</td>\n      <td>MEO</td>\n      <td>USSF</td>\n      <td>Success</td>\n      <td>Success</td>\n    </tr>\n    <tr>\n      <th>99</th>\n      <td>25-11-2020</td>\n      <td>02:13:00</td>\n      <td>F9 B5 B1049.7</td>\n      <td>CCAFS SLC-40</td>\n      <td>Starlink 15 v1.0, SpaceX CRS-21</td>\n      <td>15600</td>\n      <td>LEO</td>\n      <td>SpaceX</td>\n      <td>Success</td>\n      <td>Success</td>\n    </tr>\n  </tbody>\n</table>\n</div>"
                    },
                    "metadata": {}
                }
            ]
        },
        {
            "metadata": {},
            "cell_type": "markdown",
            "source": "### Task 3\n\n##### Display the total payload mass carried by boosters launched by NASA (CRS)\n"
        },
        {
            "metadata": {},
            "cell_type": "code",
            "source": "df_data_1[df_data_1.Customer == 'NASA (CRS)'].PAYLOAD_MASS__KG_.sum()",
            "execution_count": 44,
            "outputs": [
                {
                    "output_type": "execute_result",
                    "execution_count": 44,
                    "data": {
                        "text/plain": "45596"
                    },
                    "metadata": {}
                }
            ]
        },
        {
            "metadata": {},
            "cell_type": "markdown",
            "source": "### Task 4\n\n##### Display average payload mass carried by booster version F9 v1.1\n"
        },
        {
            "metadata": {},
            "cell_type": "code",
            "source": "df_data_1[df_data_1.Booster_Version == 'F9 v1.1'].PAYLOAD_MASS__KG_.mean()",
            "execution_count": 45,
            "outputs": [
                {
                    "output_type": "execute_result",
                    "execution_count": 45,
                    "data": {
                        "text/plain": "2928.4"
                    },
                    "metadata": {}
                }
            ]
        },
        {
            "metadata": {},
            "cell_type": "markdown",
            "source": "### Task 5\n\n##### List the date when the first successful landing outcome in ground pad was acheived.\n\n*Hint:Use min function*\n"
        },
        {
            "metadata": {},
            "cell_type": "code",
            "source": "df_data_1[df_data_1['Landing _Outcome'] == 'Success (ground pad)'].Date.min()",
            "execution_count": 47,
            "outputs": [
                {
                    "output_type": "execute_result",
                    "execution_count": 47,
                    "data": {
                        "text/plain": "'01-05-2017'"
                    },
                    "metadata": {}
                }
            ]
        },
        {
            "metadata": {},
            "cell_type": "markdown",
            "source": "### Task 6\n\n##### List the names of the boosters which have success in drone ship and have payload mass greater than 4000 but less than 6000\n"
        },
        {
            "metadata": {
                "scrolled": true
            },
            "cell_type": "code",
            "source": "df_data_1.loc[(df_data_1['Landing _Outcome'] == 'Success (drone ship)') & (df_data_1.PAYLOAD_MASS__KG_ > 4000) & (df_data_1.PAYLOAD_MASS__KG_ < 6000), :].Booster_Version",
            "execution_count": 59,
            "outputs": [
                {
                    "output_type": "execute_result",
                    "execution_count": 59,
                    "data": {
                        "text/plain": "23       F9 FT B1022\n27       F9 FT B1026\n31    F9 FT  B1021.2\n42    F9 FT  B1031.2\nName: Booster_Version, dtype: object"
                    },
                    "metadata": {}
                }
            ]
        },
        {
            "metadata": {},
            "cell_type": "markdown",
            "source": "### Task 7\n\n##### List the total number of successful and failure mission outcomes\n"
        },
        {
            "metadata": {},
            "cell_type": "code",
            "source": "df_data_1.Mission_Outcome.value_counts()",
            "execution_count": 60,
            "outputs": [
                {
                    "output_type": "execute_result",
                    "execution_count": 60,
                    "data": {
                        "text/plain": "Success                             98\nFailure (in flight)                  1\nSuccess (payload status unclear)     1\nSuccess                              1\nName: Mission_Outcome, dtype: int64"
                    },
                    "metadata": {}
                }
            ]
        },
        {
            "metadata": {},
            "cell_type": "markdown",
            "source": "### Task 8\n\n##### List the   names of the booster_versions which have carried the maximum payload mass. Use a subquery\n"
        },
        {
            "metadata": {},
            "cell_type": "code",
            "source": "import numpy as np\ndf_data_1.loc[ np.argmax(df_data_1.PAYLOAD_MASS__KG_), :].Booster_Version",
            "execution_count": 63,
            "outputs": [
                {
                    "output_type": "execute_result",
                    "execution_count": 63,
                    "data": {
                        "text/plain": "'F9 B5 B1048.4'"
                    },
                    "metadata": {}
                }
            ]
        },
        {
            "metadata": {},
            "cell_type": "markdown",
            "source": "### Task 9\n\n##### List the failed landing_outcomes in drone ship, their booster versions, and launch site names for in year 2015\n"
        },
        {
            "metadata": {},
            "cell_type": "code",
            "source": "df_data_1.loc[(df_data_1['Landing _Outcome'] == 'Failure (drone ship)') & pd.DatetimeIndex(df_data_1['Date']).year == 2015,['Booster_Version', 'Launch_Site']]",
            "execution_count": 78,
            "outputs": [
                {
                    "output_type": "execute_result",
                    "execution_count": 78,
                    "data": {
                        "text/plain": "Empty DataFrame\nColumns: [Booster_Version, Launch_Site]\nIndex: []",
                        "text/html": "<div>\n<style scoped>\n    .dataframe tbody tr th:only-of-type {\n        vertical-align: middle;\n    }\n\n    .dataframe tbody tr th {\n        vertical-align: top;\n    }\n\n    .dataframe thead th {\n        text-align: right;\n    }\n</style>\n<table border=\"1\" class=\"dataframe\">\n  <thead>\n    <tr style=\"text-align: right;\">\n      <th></th>\n      <th>Booster_Version</th>\n      <th>Launch_Site</th>\n    </tr>\n  </thead>\n  <tbody>\n  </tbody>\n</table>\n</div>"
                    },
                    "metadata": {}
                }
            ]
        },
        {
            "metadata": {},
            "cell_type": "markdown",
            "source": "### Task 10\n\n##### Rank the count of landing outcomes (such as Failure (drone ship) or Success (ground pad)) between the date 2010-06-04 and 2017-03-20, in descending order\n"
        },
        {
            "metadata": {},
            "cell_type": "code",
            "source": "import datetime\ndf_data_1['Date'] = pd.to_datetime(df_data_1.Date)\ndf_data_1.index = df_data_1.Date\ndf_data_1.loc['2010-06-04':'2017-03-20', 'Landing _Outcome'].value_counts().sort_values(ascending = False)",
            "execution_count": 105,
            "outputs": [
                {
                    "output_type": "execute_result",
                    "execution_count": 105,
                    "data": {
                        "text/plain": "No attempt                10\nFailure (drone ship)       5\nSuccess (drone ship)       5\nSuccess (ground pad)       5\nControlled (ocean)         3\nUncontrolled (ocean)       2\nFailure (parachute)        1\nPrecluded (drone ship)     1\nName: Landing _Outcome, dtype: int64"
                    },
                    "metadata": {}
                }
            ]
        },
        {
            "metadata": {},
            "cell_type": "markdown",
            "source": "### Reference Links\n\n*   <a href =\"https://cf-courses-data.s3.us.cloud-object-storage.appdomain.cloud/IBMDeveloperSkillsNetwork-DB0201EN-SkillsNetwork/labs/Labs_Coursera_V5/labs/Lab%20-%20String%20Patterns%20-%20Sorting%20-%20Grouping/instructional-labs.md.html?utm_medium=Exinfluencer&utm_source=Exinfluencer&utm_content=000026UJ&utm_term=10006555&utm_id=NA-SkillsNetwork-Channel-SkillsNetworkCoursesIBMDS0321ENSkillsNetwork26802033-2021-01-01&origin=www.coursera.org\">Hands-on Lab : String Patterns, Sorting and Grouping</a>\n\n*   <a  href=\"https://cf-courses-data.s3.us.cloud-object-storage.appdomain.cloud/IBMDeveloperSkillsNetwork-DB0201EN-SkillsNetwork/labs/Labs_Coursera_V5/labs/Lab%20-%20Built-in%20functions%20/Hands-on_Lab__Built-in_Functions.md.html?utm_medium=Exinfluencer&utm_source=Exinfluencer&utm_content=000026UJ&utm_term=10006555&utm_id=NA-SkillsNetwork-Channel-SkillsNetworkCoursesIBMDS0321ENSkillsNetwork26802033-2021-01-01&origin=www.coursera.org\">Hands-on Lab: Built-in functions</a>\n\n*   <a  href=\"https://cf-courses-data.s3.us.cloud-object-storage.appdomain.cloud/IBMDeveloperSkillsNetwork-DB0201EN-SkillsNetwork/labs/Labs_Coursera_V5/labs/Lab%20-%20Sub-queries%20and%20Nested%20SELECTs%20/instructional-labs.md.html?utm_medium=Exinfluencer&utm_source=Exinfluencer&utm_content=000026UJ&utm_term=10006555&utm_id=NA-SkillsNetwork-Channel-SkillsNetworkCoursesIBMDS0321ENSkillsNetwork26802033-2021-01-01&origin=www.coursera.org\">Hands-on Lab : Sub-queries and Nested SELECT Statements</a>\n\n*   <a href=\"https://cf-courses-data.s3.us.cloud-object-storage.appdomain.cloud/IBMDeveloperSkillsNetwork-DB0201EN-SkillsNetwork/labs/Module%205/DB0201EN-Week3-1-3-SQLmagic.ipynb?utm_medium=Exinfluencer&utm_source=Exinfluencer&utm_content=000026UJ&utm_term=10006555&utm_id=NA-SkillsNetwork-Channel-SkillsNetworkCoursesIBMDS0321ENSkillsNetwork26802033-2021-01-01\">Hands-on Tutorial: Accessing Databases with SQL magic</a>\n\n*   <a href= \"https://cf-courses-data.s3.us.cloud-object-storage.appdomain.cloud/IBMDeveloperSkillsNetwork-DB0201EN-SkillsNetwork/labs/Module%205/DB0201EN-Week3-1-4-Analyzing.ipynb?utm_medium=Exinfluencer&utm_source=Exinfluencer&utm_content=000026UJ&utm_term=10006555&utm_id=NA-SkillsNetwork-Channel-SkillsNetworkCoursesIBMDS0321ENSkillsNetwork26802033-2021-01-01\">Hands-on Lab: Analyzing a real World Data Set</a>\n"
        },
        {
            "metadata": {},
            "cell_type": "markdown",
            "source": "## Author(s)\n\n<h4> Lakshmi Holla </h4>\n"
        },
        {
            "metadata": {},
            "cell_type": "markdown",
            "source": "## Other Contributors\n\n<h4> Rav Ahuja </h4>\n"
        },
        {
            "metadata": {},
            "cell_type": "markdown",
            "source": "## Change log\n\n| Date       | Version | Changed by    | Change Description        |\n| ---------- | ------- | ------------- | ------------------------- |\n| 2021-08-24 | 0.3     | Lakshmi Holla | Added library update      |\n| 2021-07-09 | 0.2     | Lakshmi Holla | Changes made in magic sql |\n| 2021-05-20 | 0.1     | Lakshmi Holla | Created Initial Version   |\n"
        },
        {
            "metadata": {},
            "cell_type": "markdown",
            "source": "## <h3 align=\"center\"> \u00a9 IBM Corporation 2021. All rights reserved. <h3/>\n"
        }
    ],
    "metadata": {
        "kernelspec": {
            "name": "python3",
            "display_name": "Python 3.8",
            "language": "python"
        },
        "language_info": {
            "name": "python",
            "version": "3.8.11",
            "mimetype": "text/x-python",
            "codemirror_mode": {
                "name": "ipython",
                "version": 3
            },
            "pygments_lexer": "ipython3",
            "nbconvert_exporter": "python",
            "file_extension": ".py"
        }
    },
    "nbformat": 4,
    "nbformat_minor": 4
}